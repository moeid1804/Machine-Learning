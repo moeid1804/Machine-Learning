{
 "cells": [
  {
   "cell_type": "code",
   "execution_count": 6,
   "id": "a8d47dd5",
   "metadata": {
    "ExecuteTime": {
     "end_time": "2023-08-21T12:10:42.159625Z",
     "start_time": "2023-08-21T12:10:42.151625Z"
    }
   },
   "outputs": [],
   "source": [
    "import pandas as pd\n",
    "import matplotlib.pyplot as plt\n",
    "import seaborn as sns"
   ]
  },
  {
   "cell_type": "code",
   "execution_count": 7,
   "id": "98ed2f14",
   "metadata": {
    "ExecuteTime": {
     "end_time": "2023-08-21T12:10:42.172528Z",
     "start_time": "2023-08-21T12:10:42.162142Z"
    }
   },
   "outputs": [],
   "source": [
    "df=pd.read_csv('heart.csv')"
   ]
  },
  {
   "cell_type": "code",
   "execution_count": 8,
   "id": "b10c7926",
   "metadata": {
    "ExecuteTime": {
     "end_time": "2023-08-21T12:10:42.184766Z",
     "start_time": "2023-08-21T12:10:42.174125Z"
    }
   },
   "outputs": [
    {
     "data": {
      "text/html": [
       "<div>\n",
       "<style scoped>\n",
       "    .dataframe tbody tr th:only-of-type {\n",
       "        vertical-align: middle;\n",
       "    }\n",
       "\n",
       "    .dataframe tbody tr th {\n",
       "        vertical-align: top;\n",
       "    }\n",
       "\n",
       "    .dataframe thead th {\n",
       "        text-align: right;\n",
       "    }\n",
       "</style>\n",
       "<table border=\"1\" class=\"dataframe\">\n",
       "  <thead>\n",
       "    <tr style=\"text-align: right;\">\n",
       "      <th></th>\n",
       "      <th>Age</th>\n",
       "      <th>Sex</th>\n",
       "      <th>ChestPainType</th>\n",
       "      <th>RestingBP</th>\n",
       "      <th>Cholesterol</th>\n",
       "      <th>FastingBS</th>\n",
       "      <th>RestingECG</th>\n",
       "      <th>MaxHR</th>\n",
       "      <th>ExerciseAngina</th>\n",
       "      <th>Oldpeak</th>\n",
       "      <th>ST_Slope</th>\n",
       "      <th>HeartDisease</th>\n",
       "    </tr>\n",
       "  </thead>\n",
       "  <tbody>\n",
       "    <tr>\n",
       "      <th>0</th>\n",
       "      <td>40</td>\n",
       "      <td>M</td>\n",
       "      <td>ATA</td>\n",
       "      <td>140</td>\n",
       "      <td>289</td>\n",
       "      <td>0</td>\n",
       "      <td>Normal</td>\n",
       "      <td>172</td>\n",
       "      <td>N</td>\n",
       "      <td>0.0</td>\n",
       "      <td>Up</td>\n",
       "      <td>0</td>\n",
       "    </tr>\n",
       "    <tr>\n",
       "      <th>1</th>\n",
       "      <td>49</td>\n",
       "      <td>F</td>\n",
       "      <td>NAP</td>\n",
       "      <td>160</td>\n",
       "      <td>180</td>\n",
       "      <td>0</td>\n",
       "      <td>Normal</td>\n",
       "      <td>156</td>\n",
       "      <td>N</td>\n",
       "      <td>1.0</td>\n",
       "      <td>Flat</td>\n",
       "      <td>1</td>\n",
       "    </tr>\n",
       "    <tr>\n",
       "      <th>2</th>\n",
       "      <td>37</td>\n",
       "      <td>M</td>\n",
       "      <td>ATA</td>\n",
       "      <td>130</td>\n",
       "      <td>283</td>\n",
       "      <td>0</td>\n",
       "      <td>ST</td>\n",
       "      <td>98</td>\n",
       "      <td>N</td>\n",
       "      <td>0.0</td>\n",
       "      <td>Up</td>\n",
       "      <td>0</td>\n",
       "    </tr>\n",
       "    <tr>\n",
       "      <th>3</th>\n",
       "      <td>48</td>\n",
       "      <td>F</td>\n",
       "      <td>ASY</td>\n",
       "      <td>138</td>\n",
       "      <td>214</td>\n",
       "      <td>0</td>\n",
       "      <td>Normal</td>\n",
       "      <td>108</td>\n",
       "      <td>Y</td>\n",
       "      <td>1.5</td>\n",
       "      <td>Flat</td>\n",
       "      <td>1</td>\n",
       "    </tr>\n",
       "    <tr>\n",
       "      <th>4</th>\n",
       "      <td>54</td>\n",
       "      <td>M</td>\n",
       "      <td>NAP</td>\n",
       "      <td>150</td>\n",
       "      <td>195</td>\n",
       "      <td>0</td>\n",
       "      <td>Normal</td>\n",
       "      <td>122</td>\n",
       "      <td>N</td>\n",
       "      <td>0.0</td>\n",
       "      <td>Up</td>\n",
       "      <td>0</td>\n",
       "    </tr>\n",
       "  </tbody>\n",
       "</table>\n",
       "</div>"
      ],
      "text/plain": [
       "   Age Sex ChestPainType  RestingBP  Cholesterol  FastingBS RestingECG  MaxHR  \\\n",
       "0   40   M           ATA        140          289          0     Normal    172   \n",
       "1   49   F           NAP        160          180          0     Normal    156   \n",
       "2   37   M           ATA        130          283          0         ST     98   \n",
       "3   48   F           ASY        138          214          0     Normal    108   \n",
       "4   54   M           NAP        150          195          0     Normal    122   \n",
       "\n",
       "  ExerciseAngina  Oldpeak ST_Slope  HeartDisease  \n",
       "0              N      0.0       Up             0  \n",
       "1              N      1.0     Flat             1  \n",
       "2              N      0.0       Up             0  \n",
       "3              Y      1.5     Flat             1  \n",
       "4              N      0.0       Up             0  "
      ]
     },
     "execution_count": 8,
     "metadata": {},
     "output_type": "execute_result"
    }
   ],
   "source": [
    "df.head()"
   ]
  },
  {
   "cell_type": "code",
   "execution_count": 9,
   "id": "a81cc658",
   "metadata": {
    "ExecuteTime": {
     "end_time": "2023-08-21T12:10:42.199892Z",
     "start_time": "2023-08-21T12:10:42.187123Z"
    }
   },
   "outputs": [
    {
     "name": "stdout",
     "output_type": "stream",
     "text": [
      "<class 'pandas.core.frame.DataFrame'>\n",
      "RangeIndex: 918 entries, 0 to 917\n",
      "Data columns (total 12 columns):\n",
      " #   Column          Non-Null Count  Dtype  \n",
      "---  ------          --------------  -----  \n",
      " 0   Age             918 non-null    int64  \n",
      " 1   Sex             918 non-null    object \n",
      " 2   ChestPainType   918 non-null    object \n",
      " 3   RestingBP       918 non-null    int64  \n",
      " 4   Cholesterol     918 non-null    int64  \n",
      " 5   FastingBS       918 non-null    int64  \n",
      " 6   RestingECG      918 non-null    object \n",
      " 7   MaxHR           918 non-null    int64  \n",
      " 8   ExerciseAngina  918 non-null    object \n",
      " 9   Oldpeak         918 non-null    float64\n",
      " 10  ST_Slope        918 non-null    object \n",
      " 11  HeartDisease    918 non-null    int64  \n",
      "dtypes: float64(1), int64(6), object(5)\n",
      "memory usage: 86.2+ KB\n"
     ]
    }
   ],
   "source": [
    "df.info()"
   ]
  },
  {
   "cell_type": "code",
   "execution_count": 10,
   "id": "b6579710",
   "metadata": {
    "ExecuteTime": {
     "end_time": "2023-08-21T12:10:42.231689Z",
     "start_time": "2023-08-21T12:10:42.200998Z"
    },
    "scrolled": true
   },
   "outputs": [
    {
     "data": {
      "text/html": [
       "<div>\n",
       "<style scoped>\n",
       "    .dataframe tbody tr th:only-of-type {\n",
       "        vertical-align: middle;\n",
       "    }\n",
       "\n",
       "    .dataframe tbody tr th {\n",
       "        vertical-align: top;\n",
       "    }\n",
       "\n",
       "    .dataframe thead th {\n",
       "        text-align: right;\n",
       "    }\n",
       "</style>\n",
       "<table border=\"1\" class=\"dataframe\">\n",
       "  <thead>\n",
       "    <tr style=\"text-align: right;\">\n",
       "      <th></th>\n",
       "      <th>count</th>\n",
       "      <th>mean</th>\n",
       "      <th>std</th>\n",
       "      <th>min</th>\n",
       "      <th>25%</th>\n",
       "      <th>50%</th>\n",
       "      <th>75%</th>\n",
       "      <th>max</th>\n",
       "    </tr>\n",
       "  </thead>\n",
       "  <tbody>\n",
       "    <tr>\n",
       "      <th>Age</th>\n",
       "      <td>918.0</td>\n",
       "      <td>53.510893</td>\n",
       "      <td>9.432617</td>\n",
       "      <td>28.0</td>\n",
       "      <td>47.00</td>\n",
       "      <td>54.0</td>\n",
       "      <td>60.0</td>\n",
       "      <td>77.0</td>\n",
       "    </tr>\n",
       "    <tr>\n",
       "      <th>RestingBP</th>\n",
       "      <td>918.0</td>\n",
       "      <td>132.396514</td>\n",
       "      <td>18.514154</td>\n",
       "      <td>0.0</td>\n",
       "      <td>120.00</td>\n",
       "      <td>130.0</td>\n",
       "      <td>140.0</td>\n",
       "      <td>200.0</td>\n",
       "    </tr>\n",
       "    <tr>\n",
       "      <th>Cholesterol</th>\n",
       "      <td>918.0</td>\n",
       "      <td>198.799564</td>\n",
       "      <td>109.384145</td>\n",
       "      <td>0.0</td>\n",
       "      <td>173.25</td>\n",
       "      <td>223.0</td>\n",
       "      <td>267.0</td>\n",
       "      <td>603.0</td>\n",
       "    </tr>\n",
       "    <tr>\n",
       "      <th>FastingBS</th>\n",
       "      <td>918.0</td>\n",
       "      <td>0.233115</td>\n",
       "      <td>0.423046</td>\n",
       "      <td>0.0</td>\n",
       "      <td>0.00</td>\n",
       "      <td>0.0</td>\n",
       "      <td>0.0</td>\n",
       "      <td>1.0</td>\n",
       "    </tr>\n",
       "    <tr>\n",
       "      <th>MaxHR</th>\n",
       "      <td>918.0</td>\n",
       "      <td>136.809368</td>\n",
       "      <td>25.460334</td>\n",
       "      <td>60.0</td>\n",
       "      <td>120.00</td>\n",
       "      <td>138.0</td>\n",
       "      <td>156.0</td>\n",
       "      <td>202.0</td>\n",
       "    </tr>\n",
       "    <tr>\n",
       "      <th>Oldpeak</th>\n",
       "      <td>918.0</td>\n",
       "      <td>0.887364</td>\n",
       "      <td>1.066570</td>\n",
       "      <td>-2.6</td>\n",
       "      <td>0.00</td>\n",
       "      <td>0.6</td>\n",
       "      <td>1.5</td>\n",
       "      <td>6.2</td>\n",
       "    </tr>\n",
       "    <tr>\n",
       "      <th>HeartDisease</th>\n",
       "      <td>918.0</td>\n",
       "      <td>0.553377</td>\n",
       "      <td>0.497414</td>\n",
       "      <td>0.0</td>\n",
       "      <td>0.00</td>\n",
       "      <td>1.0</td>\n",
       "      <td>1.0</td>\n",
       "      <td>1.0</td>\n",
       "    </tr>\n",
       "  </tbody>\n",
       "</table>\n",
       "</div>"
      ],
      "text/plain": [
       "              count        mean         std   min     25%    50%    75%    max\n",
       "Age           918.0   53.510893    9.432617  28.0   47.00   54.0   60.0   77.0\n",
       "RestingBP     918.0  132.396514   18.514154   0.0  120.00  130.0  140.0  200.0\n",
       "Cholesterol   918.0  198.799564  109.384145   0.0  173.25  223.0  267.0  603.0\n",
       "FastingBS     918.0    0.233115    0.423046   0.0    0.00    0.0    0.0    1.0\n",
       "MaxHR         918.0  136.809368   25.460334  60.0  120.00  138.0  156.0  202.0\n",
       "Oldpeak       918.0    0.887364    1.066570  -2.6    0.00    0.6    1.5    6.2\n",
       "HeartDisease  918.0    0.553377    0.497414   0.0    0.00    1.0    1.0    1.0"
      ]
     },
     "execution_count": 10,
     "metadata": {},
     "output_type": "execute_result"
    }
   ],
   "source": [
    "df.describe().T"
   ]
  },
  {
   "cell_type": "code",
   "execution_count": 11,
   "id": "a5c7db3e",
   "metadata": {
    "ExecuteTime": {
     "end_time": "2023-08-21T12:10:42.617292Z",
     "start_time": "2023-08-21T12:10:42.233412Z"
    }
   },
   "outputs": [
    {
     "data": {
      "text/plain": [
       "<Axes: >"
      ]
     },
     "execution_count": 11,
     "metadata": {},
     "output_type": "execute_result"
    },
    {
     "data": {
      "image/png": "[encoded data removed]",
      "text/plain": [
       "<Figure size 640x480 with 2 Axes>"
      ]
     },
     "metadata": {},
     "output_type": "display_data"
    }
   ],
   "source": [
    "sns.heatmap(df.isnull())"
   ]
  },
  {
   "cell_type": "code",
   "execution_count": 12,
   "id": "a7acf994",
   "metadata": {
    "ExecuteTime": {
     "end_time": "2023-08-21T12:10:42.633280Z",
     "start_time": "2023-08-21T12:10:42.618743Z"
    }
   },
   "outputs": [
    {
     "data": {
      "text/plain": [
       "0"
      ]
     },
     "execution_count": 12,
     "metadata": {},
     "output_type": "execute_result"
    }
   ],
   "source": [
    "df.duplicated().sum()"
   ]
  },
  {
   "cell_type": "code",
   "execution_count": 13,
   "id": "44243e6e",
   "metadata": {
    "ExecuteTime": {
     "end_time": "2023-08-21T12:10:43.404995Z",
     "start_time": "2023-08-21T12:10:42.633280Z"
    }
   },
   "outputs": [
    {
     "data": {
      "image/png": "[encoded data removed]",
      "text/plain": [
       "<Figure size 900x900 with 9 Axes>"
      ]
     },
     "metadata": {},
     "output_type": "display_data"
    }
   ],
   "source": [
    "df.hist(figsize=(9,9))\n",
    "plt.show()"
   ]
  },
  {
   "cell_type": "code",
   "execution_count": 15,
   "id": "ea9bcfbd",
   "metadata": {
    "ExecuteTime": {
     "end_time": "2023-08-21T12:11:06.220652Z",
     "start_time": "2023-08-21T12:11:05.883203Z"
    },
    "scrolled": false
   },
   "outputs": [
    {
     "name": "stderr",
     "output_type": "stream",
     "text": [
      "C:\\Users\\Mohamed Eid\\AppData\\Local\\Temp\\ipykernel_12936\\2481656533.py:1: FutureWarning: The default value of numeric_only in DataFrame.corr is deprecated. In a future version, it will default to False. Select only valid columns or specify the value of numeric_only to silence this warning.\n",
      "  cor=df.corr()\n"
     ]
    },
    {
     "data": {
      "text/plain": [
       "<Axes: >"
      ]
     },
     "execution_count": 15,
     "metadata": {},
     "output_type": "execute_result"
    },
    {
     "data": {
      "image/png": "[encoded data removed]",
      "text/plain": [
       "<Figure size 640x480 with 2 Axes>"
      ]
     },
     "metadata": {},
     "output_type": "display_data"
    }
   ],
   "source": [
    "cor=df.corr()\n",
    "sns.heatmap(cor,annot=True)"
   ]
  },
  {
   "cell_type": "code",
   "execution_count": 16,
   "id": "f28447df",
   "metadata": {
    "ExecuteTime": {
     "end_time": "2023-08-21T12:12:05.126253Z",
     "start_time": "2023-08-21T12:12:04.796823Z"
    }
   },
   "outputs": [],
   "source": [
    "from sklearn.preprocessing import LabelEncoder,StandardScaler"
   ]
  },
  {
   "cell_type": "code",
   "execution_count": 17,
   "id": "ecd3cca6",
   "metadata": {
    "ExecuteTime": {
     "end_time": "2023-08-21T12:12:05.792908Z",
     "start_time": "2023-08-21T12:12:05.774231Z"
    }
   },
   "outputs": [],
   "source": [
    "lab=LabelEncoder()"
   ]
  },
  {
   "cell_type": "code",
   "execution_count": 18,
   "id": "6b87ee67",
   "metadata": {
    "ExecuteTime": {
     "end_time": "2023-08-21T12:12:06.400479Z",
     "start_time": "2023-08-21T12:12:06.388430Z"
    }
   },
   "outputs": [
    {
     "data": {
      "text/html": [
       "<div>\n",
       "<style scoped>\n",
       "    .dataframe tbody tr th:only-of-type {\n",
       "        vertical-align: middle;\n",
       "    }\n",
       "\n",
       "    .dataframe tbody tr th {\n",
       "        vertical-align: top;\n",
       "    }\n",
       "\n",
       "    .dataframe thead th {\n",
       "        text-align: right;\n",
       "    }\n",
       "</style>\n",
       "<table border=\"1\" class=\"dataframe\">\n",
       "  <thead>\n",
       "    <tr style=\"text-align: right;\">\n",
       "      <th></th>\n",
       "      <th>Sex</th>\n",
       "      <th>ChestPainType</th>\n",
       "      <th>RestingECG</th>\n",
       "      <th>ExerciseAngina</th>\n",
       "      <th>ST_Slope</th>\n",
       "    </tr>\n",
       "  </thead>\n",
       "  <tbody>\n",
       "    <tr>\n",
       "      <th>0</th>\n",
       "      <td>M</td>\n",
       "      <td>ATA</td>\n",
       "      <td>Normal</td>\n",
       "      <td>N</td>\n",
       "      <td>Up</td>\n",
       "    </tr>\n",
       "    <tr>\n",
       "      <th>1</th>\n",
       "      <td>F</td>\n",
       "      <td>NAP</td>\n",
       "      <td>Normal</td>\n",
       "      <td>N</td>\n",
       "      <td>Flat</td>\n",
       "    </tr>\n",
       "    <tr>\n",
       "      <th>2</th>\n",
       "      <td>M</td>\n",
       "      <td>ATA</td>\n",
       "      <td>ST</td>\n",
       "      <td>N</td>\n",
       "      <td>Up</td>\n",
       "    </tr>\n",
       "    <tr>\n",
       "      <th>3</th>\n",
       "      <td>F</td>\n",
       "      <td>ASY</td>\n",
       "      <td>Normal</td>\n",
       "      <td>Y</td>\n",
       "      <td>Flat</td>\n",
       "    </tr>\n",
       "    <tr>\n",
       "      <th>4</th>\n",
       "      <td>M</td>\n",
       "      <td>NAP</td>\n",
       "      <td>Normal</td>\n",
       "      <td>N</td>\n",
       "      <td>Up</td>\n",
       "    </tr>\n",
       "    <tr>\n",
       "      <th>...</th>\n",
       "      <td>...</td>\n",
       "      <td>...</td>\n",
       "      <td>...</td>\n",
       "      <td>...</td>\n",
       "      <td>...</td>\n",
       "    </tr>\n",
       "    <tr>\n",
       "      <th>913</th>\n",
       "      <td>M</td>\n",
       "      <td>TA</td>\n",
       "      <td>Normal</td>\n",
       "      <td>N</td>\n",
       "      <td>Flat</td>\n",
       "    </tr>\n",
       "    <tr>\n",
       "      <th>914</th>\n",
       "      <td>M</td>\n",
       "      <td>ASY</td>\n",
       "      <td>Normal</td>\n",
       "      <td>N</td>\n",
       "      <td>Flat</td>\n",
       "    </tr>\n",
       "    <tr>\n",
       "      <th>915</th>\n",
       "      <td>M</td>\n",
       "      <td>ASY</td>\n",
       "      <td>Normal</td>\n",
       "      <td>Y</td>\n",
       "      <td>Flat</td>\n",
       "    </tr>\n",
       "    <tr>\n",
       "      <th>916</th>\n",
       "      <td>F</td>\n",
       "      <td>ATA</td>\n",
       "      <td>LVH</td>\n",
       "      <td>N</td>\n",
       "      <td>Flat</td>\n",
       "    </tr>\n",
       "    <tr>\n",
       "      <th>917</th>\n",
       "      <td>M</td>\n",
       "      <td>NAP</td>\n",
       "      <td>Normal</td>\n",
       "      <td>N</td>\n",
       "      <td>Up</td>\n",
       "    </tr>\n",
       "  </tbody>\n",
       "</table>\n",
       "<p>918 rows × 5 columns</p>\n",
       "</div>"
      ],
      "text/plain": [
       "    Sex ChestPainType RestingECG ExerciseAngina ST_Slope\n",
       "0     M           ATA     Normal              N       Up\n",
       "1     F           NAP     Normal              N     Flat\n",
       "2     M           ATA         ST              N       Up\n",
       "3     F           ASY     Normal              Y     Flat\n",
       "4     M           NAP     Normal              N       Up\n",
       "..   ..           ...        ...            ...      ...\n",
       "913   M            TA     Normal              N     Flat\n",
       "914   M           ASY     Normal              N     Flat\n",
       "915   M           ASY     Normal              Y     Flat\n",
       "916   F           ATA        LVH              N     Flat\n",
       "917   M           NAP     Normal              N       Up\n",
       "\n",
       "[918 rows x 5 columns]"
      ]
     },
     "execution_count": 18,
     "metadata": {},
     "output_type": "execute_result"
    }
   ],
   "source": [
    "obj=df.select_dtypes(include='object')\n",
    "no_obj=df.select_dtypes(exclude='object')\n",
    "obj"
   ]
  },
  {
   "cell_type": "code",
   "execution_count": 19,
   "id": "9ad96354",
   "metadata": {
    "ExecuteTime": {
     "end_time": "2023-08-21T12:12:07.909765Z",
     "start_time": "2023-08-21T12:12:07.892352Z"
    }
   },
   "outputs": [],
   "source": [
    "for i in obj:\n",
    "    obj[i]=lab.fit_transform(obj[i])"
   ]
  },
  {
   "cell_type": "code",
   "execution_count": 20,
   "id": "f41382c4",
   "metadata": {
    "ExecuteTime": {
     "end_time": "2023-08-21T12:12:08.609580Z",
     "start_time": "2023-08-21T12:12:08.587951Z"
    }
   },
   "outputs": [
    {
     "data": {
      "text/html": [
       "<div>\n",
       "<style scoped>\n",
       "    .dataframe tbody tr th:only-of-type {\n",
       "        vertical-align: middle;\n",
       "    }\n",
       "\n",
       "    .dataframe tbody tr th {\n",
       "        vertical-align: top;\n",
       "    }\n",
       "\n",
       "    .dataframe thead th {\n",
       "        text-align: right;\n",
       "    }\n",
       "</style>\n",
       "<table border=\"1\" class=\"dataframe\">\n",
       "  <thead>\n",
       "    <tr style=\"text-align: right;\">\n",
       "      <th></th>\n",
       "      <th>Sex</th>\n",
       "      <th>ChestPainType</th>\n",
       "      <th>RestingECG</th>\n",
       "      <th>ExerciseAngina</th>\n",
       "      <th>ST_Slope</th>\n",
       "    </tr>\n",
       "  </thead>\n",
       "  <tbody>\n",
       "    <tr>\n",
       "      <th>0</th>\n",
       "      <td>1</td>\n",
       "      <td>1</td>\n",
       "      <td>1</td>\n",
       "      <td>0</td>\n",
       "      <td>2</td>\n",
       "    </tr>\n",
       "    <tr>\n",
       "      <th>1</th>\n",
       "      <td>0</td>\n",
       "      <td>2</td>\n",
       "      <td>1</td>\n",
       "      <td>0</td>\n",
       "      <td>1</td>\n",
       "    </tr>\n",
       "    <tr>\n",
       "      <th>2</th>\n",
       "      <td>1</td>\n",
       "      <td>1</td>\n",
       "      <td>2</td>\n",
       "      <td>0</td>\n",
       "      <td>2</td>\n",
       "    </tr>\n",
       "    <tr>\n",
       "      <th>3</th>\n",
       "      <td>0</td>\n",
       "      <td>0</td>\n",
       "      <td>1</td>\n",
       "      <td>1</td>\n",
       "      <td>1</td>\n",
       "    </tr>\n",
       "    <tr>\n",
       "      <th>4</th>\n",
       "      <td>1</td>\n",
       "      <td>2</td>\n",
       "      <td>1</td>\n",
       "      <td>0</td>\n",
       "      <td>2</td>\n",
       "    </tr>\n",
       "    <tr>\n",
       "      <th>...</th>\n",
       "      <td>...</td>\n",
       "      <td>...</td>\n",
       "      <td>...</td>\n",
       "      <td>...</td>\n",
       "      <td>...</td>\n",
       "    </tr>\n",
       "    <tr>\n",
       "      <th>913</th>\n",
       "      <td>1</td>\n",
       "      <td>3</td>\n",
       "      <td>1</td>\n",
       "      <td>0</td>\n",
       "      <td>1</td>\n",
       "    </tr>\n",
       "    <tr>\n",
       "      <th>914</th>\n",
       "      <td>1</td>\n",
       "      <td>0</td>\n",
       "      <td>1</td>\n",
       "      <td>0</td>\n",
       "      <td>1</td>\n",
       "    </tr>\n",
       "    <tr>\n",
       "      <th>915</th>\n",
       "      <td>1</td>\n",
       "      <td>0</td>\n",
       "      <td>1</td>\n",
       "      <td>1</td>\n",
       "      <td>1</td>\n",
       "    </tr>\n",
       "    <tr>\n",
       "      <th>916</th>\n",
       "      <td>0</td>\n",
       "      <td>1</td>\n",
       "      <td>0</td>\n",
       "      <td>0</td>\n",
       "      <td>1</td>\n",
       "    </tr>\n",
       "    <tr>\n",
       "      <th>917</th>\n",
       "      <td>1</td>\n",
       "      <td>2</td>\n",
       "      <td>1</td>\n",
       "      <td>0</td>\n",
       "      <td>2</td>\n",
       "    </tr>\n",
       "  </tbody>\n",
       "</table>\n",
       "<p>918 rows × 5 columns</p>\n",
       "</div>"
      ],
      "text/plain": [
       "     Sex  ChestPainType  RestingECG  ExerciseAngina  ST_Slope\n",
       "0      1              1           1               0         2\n",
       "1      0              2           1               0         1\n",
       "2      1              1           2               0         2\n",
       "3      0              0           1               1         1\n",
       "4      1              2           1               0         2\n",
       "..   ...            ...         ...             ...       ...\n",
       "913    1              3           1               0         1\n",
       "914    1              0           1               0         1\n",
       "915    1              0           1               1         1\n",
       "916    0              1           0               0         1\n",
       "917    1              2           1               0         2\n",
       "\n",
       "[918 rows x 5 columns]"
      ]
     },
     "execution_count": 20,
     "metadata": {},
     "output_type": "execute_result"
    }
   ],
   "source": [
    "obj"
   ]
  },
  {
   "cell_type": "code",
   "execution_count": 21,
   "id": "2f98df6e",
   "metadata": {
    "ExecuteTime": {
     "end_time": "2023-08-21T12:12:10.327126Z",
     "start_time": "2023-08-21T12:12:10.309683Z"
    }
   },
   "outputs": [
    {
     "data": {
      "text/html": [
       "<div>\n",
       "<style scoped>\n",
       "    .dataframe tbody tr th:only-of-type {\n",
       "        vertical-align: middle;\n",
       "    }\n",
       "\n",
       "    .dataframe tbody tr th {\n",
       "        vertical-align: top;\n",
       "    }\n",
       "\n",
       "    .dataframe thead th {\n",
       "        text-align: right;\n",
       "    }\n",
       "</style>\n",
       "<table border=\"1\" class=\"dataframe\">\n",
       "  <thead>\n",
       "    <tr style=\"text-align: right;\">\n",
       "      <th></th>\n",
       "      <th>Age</th>\n",
       "      <th>RestingBP</th>\n",
       "      <th>Cholesterol</th>\n",
       "      <th>FastingBS</th>\n",
       "      <th>MaxHR</th>\n",
       "      <th>Oldpeak</th>\n",
       "      <th>HeartDisease</th>\n",
       "    </tr>\n",
       "  </thead>\n",
       "  <tbody>\n",
       "    <tr>\n",
       "      <th>0</th>\n",
       "      <td>40</td>\n",
       "      <td>140</td>\n",
       "      <td>289</td>\n",
       "      <td>0</td>\n",
       "      <td>172</td>\n",
       "      <td>0.0</td>\n",
       "      <td>0</td>\n",
       "    </tr>\n",
       "    <tr>\n",
       "      <th>1</th>\n",
       "      <td>49</td>\n",
       "      <td>160</td>\n",
       "      <td>180</td>\n",
       "      <td>0</td>\n",
       "      <td>156</td>\n",
       "      <td>1.0</td>\n",
       "      <td>1</td>\n",
       "    </tr>\n",
       "    <tr>\n",
       "      <th>2</th>\n",
       "      <td>37</td>\n",
       "      <td>130</td>\n",
       "      <td>283</td>\n",
       "      <td>0</td>\n",
       "      <td>98</td>\n",
       "      <td>0.0</td>\n",
       "      <td>0</td>\n",
       "    </tr>\n",
       "    <tr>\n",
       "      <th>3</th>\n",
       "      <td>48</td>\n",
       "      <td>138</td>\n",
       "      <td>214</td>\n",
       "      <td>0</td>\n",
       "      <td>108</td>\n",
       "      <td>1.5</td>\n",
       "      <td>1</td>\n",
       "    </tr>\n",
       "    <tr>\n",
       "      <th>4</th>\n",
       "      <td>54</td>\n",
       "      <td>150</td>\n",
       "      <td>195</td>\n",
       "      <td>0</td>\n",
       "      <td>122</td>\n",
       "      <td>0.0</td>\n",
       "      <td>0</td>\n",
       "    </tr>\n",
       "    <tr>\n",
       "      <th>...</th>\n",
       "      <td>...</td>\n",
       "      <td>...</td>\n",
       "      <td>...</td>\n",
       "      <td>...</td>\n",
       "      <td>...</td>\n",
       "      <td>...</td>\n",
       "      <td>...</td>\n",
       "    </tr>\n",
       "    <tr>\n",
       "      <th>913</th>\n",
       "      <td>45</td>\n",
       "      <td>110</td>\n",
       "      <td>264</td>\n",
       "      <td>0</td>\n",
       "      <td>132</td>\n",
       "      <td>1.2</td>\n",
       "      <td>1</td>\n",
       "    </tr>\n",
       "    <tr>\n",
       "      <th>914</th>\n",
       "      <td>68</td>\n",
       "      <td>144</td>\n",
       "      <td>193</td>\n",
       "      <td>1</td>\n",
       "      <td>141</td>\n",
       "      <td>3.4</td>\n",
       "      <td>1</td>\n",
       "    </tr>\n",
       "    <tr>\n",
       "      <th>915</th>\n",
       "      <td>57</td>\n",
       "      <td>130</td>\n",
       "      <td>131</td>\n",
       "      <td>0</td>\n",
       "      <td>115</td>\n",
       "      <td>1.2</td>\n",
       "      <td>1</td>\n",
       "    </tr>\n",
       "    <tr>\n",
       "      <th>916</th>\n",
       "      <td>57</td>\n",
       "      <td>130</td>\n",
       "      <td>236</td>\n",
       "      <td>0</td>\n",
       "      <td>174</td>\n",
       "      <td>0.0</td>\n",
       "      <td>1</td>\n",
       "    </tr>\n",
       "    <tr>\n",
       "      <th>917</th>\n",
       "      <td>38</td>\n",
       "      <td>138</td>\n",
       "      <td>175</td>\n",
       "      <td>0</td>\n",
       "      <td>173</td>\n",
       "      <td>0.0</td>\n",
       "      <td>0</td>\n",
       "    </tr>\n",
       "  </tbody>\n",
       "</table>\n",
       "<p>918 rows × 7 columns</p>\n",
       "</div>"
      ],
      "text/plain": [
       "     Age  RestingBP  Cholesterol  FastingBS  MaxHR  Oldpeak  HeartDisease\n",
       "0     40        140          289          0    172      0.0             0\n",
       "1     49        160          180          0    156      1.0             1\n",
       "2     37        130          283          0     98      0.0             0\n",
       "3     48        138          214          0    108      1.5             1\n",
       "4     54        150          195          0    122      0.0             0\n",
       "..   ...        ...          ...        ...    ...      ...           ...\n",
       "913   45        110          264          0    132      1.2             1\n",
       "914   68        144          193          1    141      3.4             1\n",
       "915   57        130          131          0    115      1.2             1\n",
       "916   57        130          236          0    174      0.0             1\n",
       "917   38        138          175          0    173      0.0             0\n",
       "\n",
       "[918 rows x 7 columns]"
      ]
     },
     "execution_count": 21,
     "metadata": {},
     "output_type": "execute_result"
    }
   ],
   "source": [
    "no_obj"
   ]
  },
  {
   "cell_type": "code",
   "execution_count": 22,
   "id": "efc1b615",
   "metadata": {
    "ExecuteTime": {
     "end_time": "2023-08-21T12:12:11.786973Z",
     "start_time": "2023-08-21T12:12:11.770597Z"
    }
   },
   "outputs": [
    {
     "data": {
      "text/html": [
       "<div>\n",
       "<style scoped>\n",
       "    .dataframe tbody tr th:only-of-type {\n",
       "        vertical-align: middle;\n",
       "    }\n",
       "\n",
       "    .dataframe tbody tr th {\n",
       "        vertical-align: top;\n",
       "    }\n",
       "\n",
       "    .dataframe thead th {\n",
       "        text-align: right;\n",
       "    }\n",
       "</style>\n",
       "<table border=\"1\" class=\"dataframe\">\n",
       "  <thead>\n",
       "    <tr style=\"text-align: right;\">\n",
       "      <th></th>\n",
       "      <th>Sex</th>\n",
       "      <th>ChestPainType</th>\n",
       "      <th>RestingECG</th>\n",
       "      <th>ExerciseAngina</th>\n",
       "      <th>ST_Slope</th>\n",
       "      <th>Age</th>\n",
       "      <th>RestingBP</th>\n",
       "      <th>Cholesterol</th>\n",
       "      <th>FastingBS</th>\n",
       "      <th>MaxHR</th>\n",
       "      <th>Oldpeak</th>\n",
       "      <th>HeartDisease</th>\n",
       "    </tr>\n",
       "  </thead>\n",
       "  <tbody>\n",
       "    <tr>\n",
       "      <th>0</th>\n",
       "      <td>1</td>\n",
       "      <td>1</td>\n",
       "      <td>1</td>\n",
       "      <td>0</td>\n",
       "      <td>2</td>\n",
       "      <td>40</td>\n",
       "      <td>140</td>\n",
       "      <td>289</td>\n",
       "      <td>0</td>\n",
       "      <td>172</td>\n",
       "      <td>0.0</td>\n",
       "      <td>0</td>\n",
       "    </tr>\n",
       "    <tr>\n",
       "      <th>1</th>\n",
       "      <td>0</td>\n",
       "      <td>2</td>\n",
       "      <td>1</td>\n",
       "      <td>0</td>\n",
       "      <td>1</td>\n",
       "      <td>49</td>\n",
       "      <td>160</td>\n",
       "      <td>180</td>\n",
       "      <td>0</td>\n",
       "      <td>156</td>\n",
       "      <td>1.0</td>\n",
       "      <td>1</td>\n",
       "    </tr>\n",
       "    <tr>\n",
       "      <th>2</th>\n",
       "      <td>1</td>\n",
       "      <td>1</td>\n",
       "      <td>2</td>\n",
       "      <td>0</td>\n",
       "      <td>2</td>\n",
       "      <td>37</td>\n",
       "      <td>130</td>\n",
       "      <td>283</td>\n",
       "      <td>0</td>\n",
       "      <td>98</td>\n",
       "      <td>0.0</td>\n",
       "      <td>0</td>\n",
       "    </tr>\n",
       "    <tr>\n",
       "      <th>3</th>\n",
       "      <td>0</td>\n",
       "      <td>0</td>\n",
       "      <td>1</td>\n",
       "      <td>1</td>\n",
       "      <td>1</td>\n",
       "      <td>48</td>\n",
       "      <td>138</td>\n",
       "      <td>214</td>\n",
       "      <td>0</td>\n",
       "      <td>108</td>\n",
       "      <td>1.5</td>\n",
       "      <td>1</td>\n",
       "    </tr>\n",
       "    <tr>\n",
       "      <th>4</th>\n",
       "      <td>1</td>\n",
       "      <td>2</td>\n",
       "      <td>1</td>\n",
       "      <td>0</td>\n",
       "      <td>2</td>\n",
       "      <td>54</td>\n",
       "      <td>150</td>\n",
       "      <td>195</td>\n",
       "      <td>0</td>\n",
       "      <td>122</td>\n",
       "      <td>0.0</td>\n",
       "      <td>0</td>\n",
       "    </tr>\n",
       "  </tbody>\n",
       "</table>\n",
       "</div>"
      ],
      "text/plain": [
       "   Sex  ChestPainType  RestingECG  ExerciseAngina  ST_Slope  Age  RestingBP  \\\n",
       "0    1              1           1               0         2   40        140   \n",
       "1    0              2           1               0         1   49        160   \n",
       "2    1              1           2               0         2   37        130   \n",
       "3    0              0           1               1         1   48        138   \n",
       "4    1              2           1               0         2   54        150   \n",
       "\n",
       "   Cholesterol  FastingBS  MaxHR  Oldpeak  HeartDisease  \n",
       "0          289          0    172      0.0             0  \n",
       "1          180          0    156      1.0             1  \n",
       "2          283          0     98      0.0             0  \n",
       "3          214          0    108      1.5             1  \n",
       "4          195          0    122      0.0             0  "
      ]
     },
     "execution_count": 22,
     "metadata": {},
     "output_type": "execute_result"
    }
   ],
   "source": [
    "data=pd.concat([obj,no_obj],axis=1)\n",
    "data.head()"
   ]
  },
  {
   "cell_type": "code",
   "execution_count": 23,
   "id": "7460f1d3",
   "metadata": {
    "ExecuteTime": {
     "end_time": "2023-08-21T12:12:13.491815Z",
     "start_time": "2023-08-21T12:12:13.062835Z"
    },
    "scrolled": false
   },
   "outputs": [
    {
     "data": {
      "text/plain": [
       "<Axes: >"
      ]
     },
     "execution_count": 23,
     "metadata": {},
     "output_type": "execute_result"
    },
    {
     "data": {
      "image/png": "[encoded data removed]",
      "text/plain": [
       "<Figure size 640x480 with 2 Axes>"
      ]
     },
     "metadata": {},
     "output_type": "display_data"
    }
   ],
   "source": [
    "cor=data.corr()\n",
    "sns.heatmap(cor,annot=True,fmt='.001f')"
   ]
  },
  {
   "cell_type": "code",
   "execution_count": 24,
   "id": "686e5d10",
   "metadata": {
    "ExecuteTime": {
     "end_time": "2023-08-21T12:13:10.332860Z",
     "start_time": "2023-08-21T12:13:10.315414Z"
    }
   },
   "outputs": [],
   "source": [
    "data.drop(['RestingECG'],axis=1,inplace=True)"
   ]
  },
  {
   "cell_type": "code",
   "execution_count": 25,
   "id": "d8950905",
   "metadata": {
    "ExecuteTime": {
     "end_time": "2023-08-21T12:13:11.288133Z",
     "start_time": "2023-08-21T12:13:11.049202Z"
    },
    "scrolled": false
   },
   "outputs": [
    {
     "data": {
      "text/plain": [
       "<Axes: xlabel='HeartDisease', ylabel='Age'>"
      ]
     },
     "execution_count": 25,
     "metadata": {},
     "output_type": "execute_result"
    },
    {
     "data": {
      "image/png": "[encoded data removed]",
      "text/plain": [
       "<Figure size 640x480 with 1 Axes>"
      ]
     },
     "metadata": {},
     "output_type": "display_data"
    }
   ],
   "source": [
    "sns.barplot(x=data['HeartDisease'],y=data['Age'],hue=data['Sex'])"
   ]
  },
  {
   "cell_type": "code",
   "execution_count": 52,
   "id": "625738fc",
   "metadata": {
    "ExecuteTime": {
     "end_time": "2023-08-21T12:39:27.718926Z",
     "start_time": "2023-08-21T12:39:27.707915Z"
    }
   },
   "outputs": [],
   "source": [
    "stand=StandardScaler()"
   ]
  },
  {
   "cell_type": "code",
   "execution_count": 53,
   "id": "9a9249ed",
   "metadata": {
    "ExecuteTime": {
     "end_time": "2023-08-21T12:39:28.371879Z",
     "start_time": "2023-08-21T12:39:28.353583Z"
    }
   },
   "outputs": [],
   "source": [
    "x=data.drop(['HeartDisease'],axis=1)"
   ]
  },
  {
   "cell_type": "code",
   "execution_count": 28,
   "id": "3a9690ff",
   "metadata": {
    "ExecuteTime": {
     "end_time": "2023-08-21T12:13:15.549801Z",
     "start_time": "2023-08-21T12:13:15.538976Z"
    }
   },
   "outputs": [],
   "source": [
    "x=stand.fit_transform(x)"
   ]
  },
  {
   "cell_type": "code",
   "execution_count": 55,
   "id": "75db4492",
   "metadata": {
    "ExecuteTime": {
     "end_time": "2023-08-21T12:39:46.365229Z",
     "start_time": "2023-08-21T12:39:46.355203Z"
    }
   },
   "outputs": [],
   "source": [
    "y=data['HeartDisease']"
   ]
  },
  {
   "cell_type": "code",
   "execution_count": 101,
   "id": "483e29eb",
   "metadata": {
    "ExecuteTime": {
     "end_time": "2023-08-21T12:51:09.700355Z",
     "start_time": "2023-08-21T12:51:09.685806Z"
    }
   },
   "outputs": [],
   "source": [
    "from sklearn.ensemble import RandomForestClassifier\n",
    "from sklearn import tree\n",
    "from sklearn import svm\n",
    "from sklearn.model_selection import train_test_split,KFold\n",
    "from sklearn.metrics import classification_report,confusion_matrix,mean_absolute_error as mse\n",
    "from numpy import sqrt"
   ]
  },
  {
   "cell_type": "code",
   "execution_count": 169,
   "id": "5bbd45e8",
   "metadata": {
    "ExecuteTime": {
     "end_time": "2023-08-21T13:22:01.437351Z",
     "start_time": "2023-08-21T13:22:01.430700Z"
    }
   },
   "outputs": [],
   "source": [
    "model=RandomForestClassifier()"
   ]
  },
  {
   "cell_type": "code",
   "execution_count": 170,
   "id": "93aadbec",
   "metadata": {
    "ExecuteTime": {
     "end_time": "2023-08-21T13:22:02.004975Z",
     "start_time": "2023-08-21T13:22:01.991300Z"
    }
   },
   "outputs": [],
   "source": [
    "x_train,x_test,y_train,y_test=train_test_split(x,y,test_size=.2)"
   ]
  },
  {
   "cell_type": "code",
   "execution_count": 171,
   "id": "0bdf5695",
   "metadata": {
    "ExecuteTime": {
     "end_time": "2023-08-21T13:22:02.623421Z",
     "start_time": "2023-08-21T13:22:02.607464Z"
    }
   },
   "outputs": [
    {
     "data": {
      "text/plain": [
       "(734, 10)"
      ]
     },
     "execution_count": 171,
     "metadata": {},
     "output_type": "execute_result"
    }
   ],
   "source": [
    "x_train.shape"
   ]
  },
  {
   "cell_type": "code",
   "execution_count": 172,
   "id": "2434d129",
   "metadata": {
    "ExecuteTime": {
     "end_time": "2023-08-21T13:22:05.452652Z",
     "start_time": "2023-08-21T13:22:05.293849Z"
    }
   },
   "outputs": [
    {
     "data": {
      "text/plain": [
       "1.0"
      ]
     },
     "execution_count": 172,
     "metadata": {},
     "output_type": "execute_result"
    }
   ],
   "source": [
    "model.fit(x_train,y_train)\n",
    "model.score(x_train,y_train)"
   ]
  },
  {
   "cell_type": "code",
   "execution_count": 173,
   "id": "e6b529f0",
   "metadata": {
    "ExecuteTime": {
     "end_time": "2023-08-21T13:22:06.411584Z",
     "start_time": "2023-08-21T13:22:06.389458Z"
    }
   },
   "outputs": [],
   "source": [
    "pred=model.predict(x_test)"
   ]
  },
  {
   "cell_type": "code",
   "execution_count": 174,
   "id": "1278d397",
   "metadata": {
    "ExecuteTime": {
     "end_time": "2023-08-21T13:22:07.184729Z",
     "start_time": "2023-08-21T13:22:07.170170Z"
    }
   },
   "outputs": [
    {
     "data": {
      "text/plain": [
       "array([[69, 11],\n",
       "       [13, 91]], dtype=int64)"
      ]
     },
     "execution_count": 174,
     "metadata": {},
     "output_type": "execute_result"
    }
   ],
   "source": [
    "confusion_matrix(y_test,pred)"
   ]
  },
  {
   "cell_type": "code",
   "execution_count": 175,
   "id": "b89d92fa",
   "metadata": {
    "ExecuteTime": {
     "end_time": "2023-08-21T13:22:08.852506Z",
     "start_time": "2023-08-21T13:22:08.836335Z"
    },
    "scrolled": true
   },
   "outputs": [
    {
     "name": "stdout",
     "output_type": "stream",
     "text": [
      "              precision    recall  f1-score   support\n",
      "\n",
      "           0       0.84      0.86      0.85        80\n",
      "           1       0.89      0.88      0.88       104\n",
      "\n",
      "    accuracy                           0.87       184\n",
      "   macro avg       0.87      0.87      0.87       184\n",
      "weighted avg       0.87      0.87      0.87       184\n",
      "\n"
     ]
    }
   ],
   "source": [
    "print(classification_report(y_test,pred))"
   ]
  },
  {
   "cell_type": "code",
   "execution_count": 64,
   "id": "93eff7db",
   "metadata": {
    "ExecuteTime": {
     "end_time": "2023-08-21T12:39:57.976523Z",
     "start_time": "2023-08-21T12:39:57.961509Z"
    }
   },
   "outputs": [],
   "source": [
    "kf=KFold(n_splits=5,random_state=None,shuffle=True)"
   ]
  },
  {
   "cell_type": "code",
   "execution_count": 82,
   "id": "fa3d453b",
   "metadata": {
    "ExecuteTime": {
     "end_time": "2023-08-21T12:45:09.853700Z",
     "start_time": "2023-08-21T12:45:09.836689Z"
    }
   },
   "outputs": [],
   "source": [
    "splitted_data=list(kf.split(x))"
   ]
  },
  {
   "cell_type": "code",
   "execution_count": 83,
   "id": "6e11eb4a",
   "metadata": {
    "ExecuteTime": {
     "end_time": "2023-08-21T12:45:10.980467Z",
     "start_time": "2023-08-21T12:45:10.964222Z"
    },
    "scrolled": true
   },
   "outputs": [
    {
     "data": {
      "text/plain": [
       "[(array([  0,   1,   3,   4,   5,   8,   9,  10,  11,  14,  15,  16,  17,\n",
       "          18,  21,  23,  24,  25,  27,  28,  29,  30,  31,  32,  33,  34,\n",
       "          35,  36,  37,  38,  39,  40,  41,  42,  43,  44,  45,  46,  47,\n",
       "          48,  51,  52,  53,  54,  55,  56,  57,  58,  60,  61,  62,  63,\n",
       "          64,  65,  66,  67,  68,  69,  72,  73,  74,  75,  76,  77,  78,\n",
       "          79,  80,  81,  82,  84,  85,  87,  88,  91,  92,  93,  95,  97,\n",
       "          98,  99, 100, 101, 102, 104, 105, 107, 108, 109, 111, 113, 114,\n",
       "         115, 116, 117, 119, 120, 121, 122, 124, 125, 126, 127, 128, 129,\n",
       "         130, 131, 132, 133, 134, 135, 136, 138, 139, 140, 141, 142, 143,\n",
       "         144, 145, 146, 147, 149, 151, 152, 153, 154, 155, 157, 159, 160,\n",
       "         161, 162, 164, 165, 167, 169, 171, 172, 174, 175, 176, 177, 178,\n",
       "         179, 181, 183, 184, 185, 186, 187, 189, 190, 191, 192, 193, 194,\n",
       "         197, 198, 199, 200, 202, 203, 204, 206, 207, 208, 209, 210, 211,\n",
       "         212, 213, 214, 215, 216, 217, 218, 219, 220, 221, 222, 223, 224,\n",
       "         225, 226, 228, 229, 232, 233, 234, 235, 237, 238, 239, 240, 241,\n",
       "         242, 243, 244, 245, 246, 248, 250, 251, 252, 253, 254, 255, 256,\n",
       "         257, 258, 259, 260, 262, 263, 264, 265, 268, 270, 272, 273, 274,\n",
       "         275, 276, 277, 278, 279, 280, 281, 282, 283, 285, 286, 287, 288,\n",
       "         289, 290, 291, 292, 293, 294, 295, 296, 297, 299, 300, 301, 302,\n",
       "         305, 306, 307, 308, 309, 310, 311, 312, 313, 314, 315, 316, 317,\n",
       "         318, 319, 321, 323, 324, 325, 327, 328, 329, 330, 331, 332, 335,\n",
       "         336, 337, 339, 340, 341, 342, 343, 344, 345, 346, 348, 349, 350,\n",
       "         351, 352, 353, 354, 355, 357, 359, 360, 361, 362, 363, 364, 365,\n",
       "         366, 367, 369, 370, 371, 373, 374, 375, 376, 378, 381, 382, 383,\n",
       "         384, 385, 386, 387, 388, 389, 390, 391, 392, 393, 395, 396, 397,\n",
       "         398, 399, 400, 402, 404, 405, 406, 407, 409, 410, 411, 412, 413,\n",
       "         414, 415, 416, 417, 418, 419, 420, 422, 423, 424, 426, 427, 429,\n",
       "         430, 431, 434, 436, 437, 439, 442, 444, 445, 446, 447, 448, 449,\n",
       "         451, 452, 454, 455, 456, 457, 458, 459, 460, 461, 462, 463, 464,\n",
       "         465, 467, 468, 469, 470, 471, 472, 473, 474, 475, 476, 477, 478,\n",
       "         479, 480, 483, 484, 486, 487, 489, 490, 491, 492, 493, 494, 495,\n",
       "         496, 498, 500, 503, 504, 507, 509, 510, 512, 513, 514, 515, 516,\n",
       "         517, 518, 519, 520, 521, 523, 524, 525, 527, 528, 529, 530, 532,\n",
       "         534, 535, 536, 537, 539, 541, 542, 543, 544, 546, 548, 550, 551,\n",
       "         553, 554, 555, 556, 557, 558, 560, 561, 562, 563, 565, 566, 568,\n",
       "         569, 570, 572, 573, 578, 579, 580, 581, 582, 583, 584, 585, 586,\n",
       "         587, 588, 592, 593, 595, 599, 601, 602, 603, 604, 605, 606, 607,\n",
       "         608, 609, 610, 611, 612, 613, 614, 615, 616, 617, 619, 620, 622,\n",
       "         623, 625, 627, 628, 630, 631, 632, 634, 635, 636, 637, 638, 640,\n",
       "         641, 642, 643, 644, 645, 646, 647, 648, 649, 650, 651, 652, 653,\n",
       "         654, 655, 657, 658, 659, 660, 662, 663, 664, 667, 668, 669, 670,\n",
       "         672, 673, 675, 676, 677, 678, 680, 681, 682, 683, 684, 685, 686,\n",
       "         688, 689, 690, 691, 692, 693, 694, 695, 696, 697, 698, 699, 700,\n",
       "         701, 702, 703, 704, 705, 706, 707, 708, 709, 710, 711, 712, 713,\n",
       "         716, 717, 718, 719, 720, 721, 722, 723, 724, 725, 726, 727, 728,\n",
       "         729, 730, 731, 732, 733, 734, 735, 736, 737, 738, 739, 741, 742,\n",
       "         743, 744, 746, 747, 748, 749, 750, 751, 752, 753, 754, 755, 757,\n",
       "         758, 759, 761, 763, 765, 767, 769, 771, 772, 775, 776, 777, 778,\n",
       "         779, 780, 781, 782, 783, 785, 787, 788, 789, 790, 791, 792, 793,\n",
       "         795, 796, 797, 799, 801, 802, 803, 804, 805, 806, 807, 809, 810,\n",
       "         811, 813, 814, 816, 817, 818, 819, 820, 822, 823, 825, 827, 828,\n",
       "         829, 830, 833, 834, 835, 836, 838, 839, 841, 842, 844, 845, 847,\n",
       "         848, 849, 850, 851, 853, 854, 855, 856, 857, 858, 859, 862, 863,\n",
       "         864, 866, 867, 868, 869, 870, 871, 872, 873, 874, 875, 876, 877,\n",
       "         878, 879, 880, 881, 883, 884, 886, 887, 888, 889, 890, 891, 892,\n",
       "         894, 895, 896, 897, 899, 900, 901, 902, 903, 904, 908, 909, 910,\n",
       "         911, 912, 913, 914, 915, 916]),\n",
       "  array([  2,   6,   7,  12,  13,  19,  20,  22,  26,  49,  50,  59,  70,\n",
       "          71,  83,  86,  89,  90,  94,  96, 103, 106, 110, 112, 118, 123,\n",
       "         137, 148, 150, 156, 158, 163, 166, 168, 170, 173, 180, 182, 188,\n",
       "         195, 196, 201, 205, 227, 230, 231, 236, 247, 249, 261, 266, 267,\n",
       "         269, 271, 284, 298, 303, 304, 320, 322, 326, 333, 334, 338, 347,\n",
       "         356, 358, 368, 372, 377, 379, 380, 394, 401, 403, 408, 421, 425,\n",
       "         428, 432, 433, 435, 438, 440, 441, 443, 450, 453, 466, 481, 482,\n",
       "         485, 488, 497, 499, 501, 502, 505, 506, 508, 511, 522, 526, 531,\n",
       "         533, 538, 540, 545, 547, 549, 552, 559, 564, 567, 571, 574, 575,\n",
       "         576, 577, 589, 590, 591, 594, 596, 597, 598, 600, 618, 621, 624,\n",
       "         626, 629, 633, 639, 656, 661, 665, 666, 671, 674, 679, 687, 714,\n",
       "         715, 740, 745, 756, 760, 762, 764, 766, 768, 770, 773, 774, 784,\n",
       "         786, 794, 798, 800, 808, 812, 815, 821, 824, 826, 831, 832, 837,\n",
       "         840, 843, 846, 852, 860, 861, 865, 882, 885, 893, 898, 905, 906,\n",
       "         907, 917])),\n",
       " (array([  0,   1,   2,   3,   4,   6,   7,   9,  11,  12,  13,  14,  15,\n",
       "          16,  17,  18,  19,  20,  21,  22,  24,  25,  26,  27,  28,  29,\n",
       "          30,  32,  34,  35,  36,  37,  38,  39,  40,  41,  42,  43,  44,\n",
       "          46,  47,  49,  50,  51,  52,  53,  55,  56,  57,  58,  59,  60,\n",
       "          63,  65,  66,  67,  68,  69,  70,  71,  72,  73,  74,  76,  79,\n",
       "          81,  82,  83,  84,  85,  86,  87,  88,  89,  90,  91,  93,  94,\n",
       "          95,  96,  97,  98,  99, 100, 101, 102, 103, 104, 105, 106, 107,\n",
       "         108, 109, 110, 111, 112, 114, 115, 118, 119, 121, 122, 123, 124,\n",
       "         126, 127, 128, 129, 130, 131, 132, 133, 134, 136, 137, 140, 141,\n",
       "         142, 143, 144, 145, 146, 147, 148, 150, 151, 152, 153, 154, 155,\n",
       "         156, 158, 159, 160, 161, 162, 163, 164, 166, 167, 168, 169, 170,\n",
       "         171, 173, 174, 175, 176, 178, 179, 180, 181, 182, 183, 184, 185,\n",
       "         186, 187, 188, 189, 191, 192, 193, 194, 195, 196, 197, 199, 200,\n",
       "         201, 202, 203, 204, 205, 206, 211, 212, 214, 217, 219, 220, 221,\n",
       "         222, 223, 224, 227, 229, 230, 231, 232, 233, 234, 235, 236, 237,\n",
       "         238, 239, 240, 241, 242, 244, 245, 246, 247, 248, 249, 251, 253,\n",
       "         255, 256, 257, 258, 259, 260, 261, 263, 265, 266, 267, 268, 269,\n",
       "         270, 271, 272, 274, 275, 277, 278, 279, 280, 281, 282, 283, 284,\n",
       "         286, 287, 289, 290, 291, 292, 293, 294, 295, 298, 299, 300, 301,\n",
       "         302, 303, 304, 305, 308, 309, 311, 313, 314, 315, 317, 318, 319,\n",
       "         320, 321, 322, 323, 324, 325, 326, 331, 332, 333, 334, 335, 336,\n",
       "         337, 338, 339, 341, 342, 343, 344, 346, 347, 348, 349, 350, 351,\n",
       "         352, 353, 354, 355, 356, 358, 361, 362, 363, 364, 366, 367, 368,\n",
       "         370, 371, 372, 373, 374, 375, 376, 377, 378, 379, 380, 382, 383,\n",
       "         384, 385, 386, 387, 390, 391, 392, 393, 394, 395, 396, 398, 399,\n",
       "         400, 401, 403, 404, 405, 406, 407, 408, 409, 410, 411, 413, 415,\n",
       "         416, 418, 419, 420, 421, 423, 424, 425, 426, 427, 428, 429, 431,\n",
       "         432, 433, 434, 435, 436, 437, 438, 439, 440, 441, 442, 443, 446,\n",
       "         448, 449, 450, 452, 453, 454, 455, 456, 457, 458, 459, 460, 461,\n",
       "         463, 464, 465, 466, 467, 468, 469, 470, 472, 473, 474, 475, 477,\n",
       "         478, 479, 481, 482, 483, 484, 485, 486, 487, 488, 489, 490, 491,\n",
       "         492, 493, 494, 495, 497, 498, 499, 500, 501, 502, 503, 504, 505,\n",
       "         506, 507, 508, 509, 510, 511, 512, 513, 514, 515, 516, 517, 518,\n",
       "         519, 520, 521, 522, 523, 524, 525, 526, 527, 528, 531, 532, 533,\n",
       "         534, 536, 537, 538, 539, 540, 541, 544, 545, 547, 548, 549, 551,\n",
       "         552, 554, 555, 557, 559, 563, 564, 565, 566, 567, 569, 570, 571,\n",
       "         573, 574, 575, 576, 577, 578, 579, 580, 581, 582, 583, 584, 585,\n",
       "         586, 587, 589, 590, 591, 593, 594, 595, 596, 597, 598, 599, 600,\n",
       "         601, 603, 609, 610, 611, 612, 613, 614, 615, 617, 618, 619, 620,\n",
       "         621, 623, 624, 625, 626, 627, 628, 629, 630, 632, 633, 634, 635,\n",
       "         636, 637, 638, 639, 640, 642, 643, 644, 645, 650, 651, 653, 655,\n",
       "         656, 658, 659, 661, 662, 663, 665, 666, 667, 668, 670, 671, 672,\n",
       "         673, 674, 676, 679, 680, 681, 682, 685, 686, 687, 688, 690, 692,\n",
       "         693, 694, 695, 696, 697, 698, 700, 702, 703, 704, 706, 707, 708,\n",
       "         709, 710, 714, 715, 716, 717, 718, 719, 720, 721, 723, 724, 725,\n",
       "         727, 728, 729, 730, 733, 735, 736, 737, 738, 740, 742, 743, 744,\n",
       "         745, 746, 748, 749, 750, 751, 752, 753, 754, 755, 756, 758, 760,\n",
       "         761, 762, 763, 764, 765, 766, 767, 768, 769, 770, 771, 773, 774,\n",
       "         775, 776, 777, 778, 781, 782, 783, 784, 785, 786, 790, 792, 793,\n",
       "         794, 795, 796, 797, 798, 799, 800, 802, 803, 804, 806, 808, 809,\n",
       "         810, 811, 812, 813, 814, 815, 816, 818, 819, 820, 821, 822, 823,\n",
       "         824, 826, 827, 829, 830, 831, 832, 833, 834, 835, 837, 839, 840,\n",
       "         842, 843, 845, 846, 848, 850, 851, 852, 853, 854, 855, 856, 857,\n",
       "         859, 860, 861, 862, 863, 865, 866, 867, 868, 869, 870, 872, 874,\n",
       "         877, 878, 879, 880, 881, 882, 884, 885, 886, 887, 888, 889, 891,\n",
       "         893, 895, 896, 897, 898, 899, 900, 903, 904, 905, 906, 907, 908,\n",
       "         909, 911, 912, 914, 915, 917]),\n",
       "  array([  5,   8,  10,  23,  31,  33,  45,  48,  54,  61,  62,  64,  75,\n",
       "          77,  78,  80,  92, 113, 116, 117, 120, 125, 135, 138, 139, 149,\n",
       "         157, 165, 172, 177, 190, 198, 207, 208, 209, 210, 213, 215, 216,\n",
       "         218, 225, 226, 228, 243, 250, 252, 254, 262, 264, 273, 276, 285,\n",
       "         288, 296, 297, 306, 307, 310, 312, 316, 327, 328, 329, 330, 340,\n",
       "         345, 357, 359, 360, 365, 369, 381, 388, 389, 397, 402, 412, 414,\n",
       "         417, 422, 430, 444, 445, 447, 451, 462, 471, 476, 480, 496, 529,\n",
       "         530, 535, 542, 543, 546, 550, 553, 556, 558, 560, 561, 562, 568,\n",
       "         572, 588, 592, 602, 604, 605, 606, 607, 608, 616, 622, 631, 641,\n",
       "         646, 647, 648, 649, 652, 654, 657, 660, 664, 669, 675, 677, 678,\n",
       "         683, 684, 689, 691, 699, 701, 705, 711, 712, 713, 722, 726, 731,\n",
       "         732, 734, 739, 741, 747, 757, 759, 772, 779, 780, 787, 788, 789,\n",
       "         791, 801, 805, 807, 817, 825, 828, 836, 838, 841, 844, 847, 849,\n",
       "         858, 864, 871, 873, 875, 876, 883, 890, 892, 894, 901, 902, 910,\n",
       "         913, 916])),\n",
       " (array([  0,   2,   3,   4,   5,   6,   7,   8,  10,  12,  13,  14,  15,\n",
       "          17,  19,  20,  21,  22,  23,  24,  26,  27,  28,  31,  33,  35,\n",
       "          36,  37,  38,  39,  40,  41,  42,  43,  44,  45,  47,  48,  49,\n",
       "          50,  51,  53,  54,  56,  58,  59,  61,  62,  63,  64,  65,  66,\n",
       "          67,  68,  70,  71,  73,  74,  75,  76,  77,  78,  80,  81,  83,\n",
       "          84,  85,  86,  87,  88,  89,  90,  91,  92,  93,  94,  96,  97,\n",
       "          98, 100, 103, 105, 106, 107, 109, 110, 111, 112, 113, 115, 116,\n",
       "         117, 118, 119, 120, 121, 122, 123, 125, 126, 127, 129, 130, 131,\n",
       "         132, 134, 135, 136, 137, 138, 139, 140, 141, 142, 143, 144, 146,\n",
       "         148, 149, 150, 151, 152, 153, 154, 155, 156, 157, 158, 159, 160,\n",
       "         161, 162, 163, 164, 165, 166, 167, 168, 170, 172, 173, 174, 175,\n",
       "         177, 178, 179, 180, 181, 182, 183, 184, 185, 186, 188, 190, 191,\n",
       "         193, 194, 195, 196, 197, 198, 200, 201, 202, 203, 204, 205, 207,\n",
       "         208, 209, 210, 211, 212, 213, 214, 215, 216, 218, 219, 220, 221,\n",
       "         222, 224, 225, 226, 227, 228, 229, 230, 231, 232, 233, 235, 236,\n",
       "         240, 241, 242, 243, 245, 246, 247, 248, 249, 250, 251, 252, 254,\n",
       "         256, 257, 259, 260, 261, 262, 264, 265, 266, 267, 268, 269, 270,\n",
       "         271, 273, 275, 276, 277, 281, 282, 283, 284, 285, 286, 287, 288,\n",
       "         290, 293, 295, 296, 297, 298, 299, 301, 303, 304, 305, 306, 307,\n",
       "         309, 310, 311, 312, 314, 315, 316, 319, 320, 322, 323, 324, 326,\n",
       "         327, 328, 329, 330, 331, 333, 334, 335, 336, 337, 338, 339, 340,\n",
       "         342, 345, 347, 348, 350, 353, 354, 356, 357, 358, 359, 360, 362,\n",
       "         364, 365, 366, 368, 369, 372, 373, 374, 375, 376, 377, 378, 379,\n",
       "         380, 381, 383, 384, 386, 388, 389, 391, 392, 393, 394, 397, 400,\n",
       "         401, 402, 403, 406, 408, 409, 410, 412, 414, 415, 417, 419, 420,\n",
       "         421, 422, 423, 424, 425, 427, 428, 429, 430, 432, 433, 435, 437,\n",
       "         438, 439, 440, 441, 442, 443, 444, 445, 446, 447, 449, 450, 451,\n",
       "         452, 453, 454, 456, 457, 458, 459, 460, 462, 463, 464, 465, 466,\n",
       "         468, 469, 470, 471, 473, 474, 475, 476, 477, 478, 479, 480, 481,\n",
       "         482, 485, 487, 488, 489, 491, 493, 494, 496, 497, 498, 499, 500,\n",
       "         501, 502, 503, 504, 505, 506, 507, 508, 509, 510, 511, 515, 517,\n",
       "         519, 521, 522, 523, 524, 525, 526, 528, 529, 530, 531, 532, 533,\n",
       "         534, 535, 536, 537, 538, 539, 540, 542, 543, 545, 546, 547, 549,\n",
       "         550, 551, 552, 553, 554, 556, 557, 558, 559, 560, 561, 562, 564,\n",
       "         565, 566, 567, 568, 570, 571, 572, 573, 574, 575, 576, 577, 579,\n",
       "         581, 582, 586, 587, 588, 589, 590, 591, 592, 594, 596, 597, 598,\n",
       "         599, 600, 601, 602, 603, 604, 605, 606, 607, 608, 611, 612, 613,\n",
       "         615, 616, 618, 619, 621, 622, 623, 624, 625, 626, 629, 631, 632,\n",
       "         633, 638, 639, 640, 641, 642, 643, 644, 645, 646, 647, 648, 649,\n",
       "         650, 651, 652, 653, 654, 655, 656, 657, 659, 660, 661, 662, 663,\n",
       "         664, 665, 666, 667, 669, 670, 671, 672, 674, 675, 676, 677, 678,\n",
       "         679, 680, 682, 683, 684, 687, 688, 689, 690, 691, 693, 694, 695,\n",
       "         696, 697, 698, 699, 700, 701, 703, 704, 705, 706, 707, 708, 711,\n",
       "         712, 713, 714, 715, 716, 717, 718, 719, 720, 722, 724, 725, 726,\n",
       "         728, 729, 730, 731, 732, 733, 734, 736, 738, 739, 740, 741, 743,\n",
       "         745, 746, 747, 748, 749, 750, 751, 752, 753, 754, 756, 757, 758,\n",
       "         759, 760, 761, 762, 763, 764, 765, 766, 768, 769, 770, 772, 773,\n",
       "         774, 775, 776, 777, 778, 779, 780, 781, 782, 784, 786, 787, 788,\n",
       "         789, 790, 791, 792, 794, 796, 797, 798, 799, 800, 801, 802, 803,\n",
       "         804, 805, 806, 807, 808, 812, 814, 815, 816, 817, 818, 820, 821,\n",
       "         823, 824, 825, 826, 827, 828, 829, 830, 831, 832, 833, 834, 835,\n",
       "         836, 837, 838, 839, 840, 841, 842, 843, 844, 845, 846, 847, 849,\n",
       "         850, 852, 853, 854, 856, 857, 858, 859, 860, 861, 862, 863, 864,\n",
       "         865, 868, 869, 870, 871, 872, 873, 875, 876, 877, 878, 879, 880,\n",
       "         881, 882, 883, 884, 885, 886, 887, 888, 890, 891, 892, 893, 894,\n",
       "         897, 898, 899, 900, 901, 902, 903, 905, 906, 907, 909, 910, 911,\n",
       "         912, 913, 914, 915, 916, 917]),\n",
       "  array([  1,   9,  11,  16,  18,  25,  29,  30,  32,  34,  46,  52,  55,\n",
       "          57,  60,  69,  72,  79,  82,  95,  99, 101, 102, 104, 108, 114,\n",
       "         124, 128, 133, 145, 147, 169, 171, 176, 187, 189, 192, 199, 206,\n",
       "         217, 223, 234, 237, 238, 239, 244, 253, 255, 258, 263, 272, 274,\n",
       "         278, 279, 280, 289, 291, 292, 294, 300, 302, 308, 313, 317, 318,\n",
       "         321, 325, 332, 341, 343, 344, 346, 349, 351, 352, 355, 361, 363,\n",
       "         367, 370, 371, 382, 385, 387, 390, 395, 396, 398, 399, 404, 405,\n",
       "         407, 411, 413, 416, 418, 426, 431, 434, 436, 448, 455, 461, 467,\n",
       "         472, 483, 484, 486, 490, 492, 495, 512, 513, 514, 516, 518, 520,\n",
       "         527, 541, 544, 548, 555, 563, 569, 578, 580, 583, 584, 585, 593,\n",
       "         595, 609, 610, 614, 617, 620, 627, 628, 630, 634, 635, 636, 637,\n",
       "         658, 668, 673, 681, 685, 686, 692, 702, 709, 710, 721, 723, 727,\n",
       "         735, 737, 742, 744, 755, 767, 771, 783, 785, 793, 795, 809, 810,\n",
       "         811, 813, 819, 822, 848, 851, 855, 866, 867, 874, 889, 895, 896,\n",
       "         904, 908])),\n",
       " (array([  0,   1,   2,   3,   5,   6,   7,   8,   9,  10,  11,  12,  13,\n",
       "          14,  15,  16,  17,  18,  19,  20,  22,  23,  25,  26,  27,  28,\n",
       "          29,  30,  31,  32,  33,  34,  37,  40,  42,  43,  45,  46,  47,\n",
       "          48,  49,  50,  52,  53,  54,  55,  57,  58,  59,  60,  61,  62,\n",
       "          63,  64,  65,  66,  69,  70,  71,  72,  74,  75,  76,  77,  78,\n",
       "          79,  80,  82,  83,  84,  86,  88,  89,  90,  91,  92,  94,  95,\n",
       "          96,  97,  98,  99, 100, 101, 102, 103, 104, 105, 106, 108, 110,\n",
       "         112, 113, 114, 116, 117, 118, 120, 122, 123, 124, 125, 127, 128,\n",
       "         129, 130, 131, 132, 133, 134, 135, 136, 137, 138, 139, 142, 143,\n",
       "         144, 145, 147, 148, 149, 150, 151, 155, 156, 157, 158, 159, 160,\n",
       "         162, 163, 164, 165, 166, 168, 169, 170, 171, 172, 173, 174, 176,\n",
       "         177, 180, 182, 187, 188, 189, 190, 191, 192, 195, 196, 197, 198,\n",
       "         199, 201, 204, 205, 206, 207, 208, 209, 210, 211, 212, 213, 215,\n",
       "         216, 217, 218, 219, 220, 221, 223, 225, 226, 227, 228, 229, 230,\n",
       "         231, 232, 233, 234, 236, 237, 238, 239, 241, 243, 244, 245, 247,\n",
       "         249, 250, 251, 252, 253, 254, 255, 258, 259, 261, 262, 263, 264,\n",
       "         266, 267, 268, 269, 271, 272, 273, 274, 275, 276, 277, 278, 279,\n",
       "         280, 281, 282, 283, 284, 285, 286, 287, 288, 289, 290, 291, 292,\n",
       "         294, 296, 297, 298, 300, 301, 302, 303, 304, 306, 307, 308, 310,\n",
       "         312, 313, 316, 317, 318, 319, 320, 321, 322, 325, 326, 327, 328,\n",
       "         329, 330, 332, 333, 334, 338, 339, 340, 341, 343, 344, 345, 346,\n",
       "         347, 349, 351, 352, 355, 356, 357, 358, 359, 360, 361, 362, 363,\n",
       "         365, 366, 367, 368, 369, 370, 371, 372, 374, 376, 377, 378, 379,\n",
       "         380, 381, 382, 383, 385, 386, 387, 388, 389, 390, 392, 394, 395,\n",
       "         396, 397, 398, 399, 400, 401, 402, 403, 404, 405, 407, 408, 411,\n",
       "         412, 413, 414, 415, 416, 417, 418, 419, 421, 422, 425, 426, 428,\n",
       "         429, 430, 431, 432, 433, 434, 435, 436, 437, 438, 440, 441, 443,\n",
       "         444, 445, 446, 447, 448, 450, 451, 453, 454, 455, 458, 459, 461,\n",
       "         462, 465, 466, 467, 468, 471, 472, 473, 474, 475, 476, 477, 478,\n",
       "         480, 481, 482, 483, 484, 485, 486, 487, 488, 490, 492, 493, 494,\n",
       "         495, 496, 497, 499, 500, 501, 502, 503, 504, 505, 506, 508, 509,\n",
       "         510, 511, 512, 513, 514, 515, 516, 518, 519, 520, 521, 522, 523,\n",
       "         525, 526, 527, 529, 530, 531, 532, 533, 534, 535, 538, 539, 540,\n",
       "         541, 542, 543, 544, 545, 546, 547, 548, 549, 550, 552, 553, 554,\n",
       "         555, 556, 558, 559, 560, 561, 562, 563, 564, 565, 567, 568, 569,\n",
       "         571, 572, 573, 574, 575, 576, 577, 578, 579, 580, 581, 582, 583,\n",
       "         584, 585, 588, 589, 590, 591, 592, 593, 594, 595, 596, 597, 598,\n",
       "         599, 600, 601, 602, 604, 605, 606, 607, 608, 609, 610, 611, 614,\n",
       "         616, 617, 618, 620, 621, 622, 624, 625, 626, 627, 628, 629, 630,\n",
       "         631, 632, 633, 634, 635, 636, 637, 639, 640, 641, 642, 643, 646,\n",
       "         647, 648, 649, 650, 651, 652, 653, 654, 655, 656, 657, 658, 659,\n",
       "         660, 661, 662, 664, 665, 666, 668, 669, 671, 672, 673, 674, 675,\n",
       "         676, 677, 678, 679, 680, 681, 683, 684, 685, 686, 687, 688, 689,\n",
       "         691, 692, 693, 695, 696, 698, 699, 700, 701, 702, 704, 705, 706,\n",
       "         709, 710, 711, 712, 713, 714, 715, 718, 721, 722, 723, 724, 725,\n",
       "         726, 727, 730, 731, 732, 734, 735, 737, 738, 739, 740, 741, 742,\n",
       "         743, 744, 745, 747, 748, 749, 750, 752, 753, 755, 756, 757, 758,\n",
       "         759, 760, 762, 764, 765, 766, 767, 768, 770, 771, 772, 773, 774,\n",
       "         775, 776, 777, 779, 780, 781, 782, 783, 784, 785, 786, 787, 788,\n",
       "         789, 790, 791, 792, 793, 794, 795, 796, 797, 798, 799, 800, 801,\n",
       "         803, 805, 807, 808, 809, 810, 811, 812, 813, 814, 815, 817, 818,\n",
       "         819, 821, 822, 824, 825, 826, 828, 831, 832, 836, 837, 838, 840,\n",
       "         841, 843, 844, 846, 847, 848, 849, 850, 851, 852, 853, 855, 856,\n",
       "         858, 859, 860, 861, 862, 864, 865, 866, 867, 869, 871, 873, 874,\n",
       "         875, 876, 879, 880, 882, 883, 885, 886, 889, 890, 891, 892, 893,\n",
       "         894, 895, 896, 897, 898, 901, 902, 903, 904, 905, 906, 907, 908,\n",
       "         910, 911, 912, 913, 915, 916, 917]),\n",
       "  array([  4,  21,  24,  35,  36,  38,  39,  41,  44,  51,  56,  67,  68,\n",
       "          73,  81,  85,  87,  93, 107, 109, 111, 115, 119, 121, 126, 140,\n",
       "         141, 146, 152, 153, 154, 161, 167, 175, 178, 179, 181, 183, 184,\n",
       "         185, 186, 193, 194, 200, 202, 203, 214, 222, 224, 235, 240, 242,\n",
       "         246, 248, 256, 257, 260, 265, 270, 293, 295, 299, 305, 309, 311,\n",
       "         314, 315, 323, 324, 331, 335, 336, 337, 342, 348, 350, 353, 354,\n",
       "         364, 373, 375, 384, 391, 393, 406, 409, 410, 420, 423, 424, 427,\n",
       "         439, 442, 449, 452, 456, 457, 460, 463, 464, 469, 470, 479, 489,\n",
       "         491, 498, 507, 517, 524, 528, 536, 537, 551, 557, 566, 570, 586,\n",
       "         587, 603, 612, 613, 615, 619, 623, 638, 644, 645, 663, 667, 670,\n",
       "         682, 690, 694, 697, 703, 707, 708, 716, 717, 719, 720, 728, 729,\n",
       "         733, 736, 746, 751, 754, 761, 763, 769, 778, 802, 804, 806, 816,\n",
       "         820, 823, 827, 829, 830, 833, 834, 835, 839, 842, 845, 854, 857,\n",
       "         863, 868, 870, 872, 877, 878, 881, 884, 887, 888, 899, 900, 909,\n",
       "         914])),\n",
       " (array([  1,   2,   4,   5,   6,   7,   8,   9,  10,  11,  12,  13,  16,\n",
       "          18,  19,  20,  21,  22,  23,  24,  25,  26,  29,  30,  31,  32,\n",
       "          33,  34,  35,  36,  38,  39,  41,  44,  45,  46,  48,  49,  50,\n",
       "          51,  52,  54,  55,  56,  57,  59,  60,  61,  62,  64,  67,  68,\n",
       "          69,  70,  71,  72,  73,  75,  77,  78,  79,  80,  81,  82,  83,\n",
       "          85,  86,  87,  89,  90,  92,  93,  94,  95,  96,  99, 101, 102,\n",
       "         103, 104, 106, 107, 108, 109, 110, 111, 112, 113, 114, 115, 116,\n",
       "         117, 118, 119, 120, 121, 123, 124, 125, 126, 128, 133, 135, 137,\n",
       "         138, 139, 140, 141, 145, 146, 147, 148, 149, 150, 152, 153, 154,\n",
       "         156, 157, 158, 161, 163, 165, 166, 167, 168, 169, 170, 171, 172,\n",
       "         173, 175, 176, 177, 178, 179, 180, 181, 182, 183, 184, 185, 186,\n",
       "         187, 188, 189, 190, 192, 193, 194, 195, 196, 198, 199, 200, 201,\n",
       "         202, 203, 205, 206, 207, 208, 209, 210, 213, 214, 215, 216, 217,\n",
       "         218, 222, 223, 224, 225, 226, 227, 228, 230, 231, 234, 235, 236,\n",
       "         237, 238, 239, 240, 242, 243, 244, 246, 247, 248, 249, 250, 252,\n",
       "         253, 254, 255, 256, 257, 258, 260, 261, 262, 263, 264, 265, 266,\n",
       "         267, 269, 270, 271, 272, 273, 274, 276, 278, 279, 280, 284, 285,\n",
       "         288, 289, 291, 292, 293, 294, 295, 296, 297, 298, 299, 300, 302,\n",
       "         303, 304, 305, 306, 307, 308, 309, 310, 311, 312, 313, 314, 315,\n",
       "         316, 317, 318, 320, 321, 322, 323, 324, 325, 326, 327, 328, 329,\n",
       "         330, 331, 332, 333, 334, 335, 336, 337, 338, 340, 341, 342, 343,\n",
       "         344, 345, 346, 347, 348, 349, 350, 351, 352, 353, 354, 355, 356,\n",
       "         357, 358, 359, 360, 361, 363, 364, 365, 367, 368, 369, 370, 371,\n",
       "         372, 373, 375, 377, 379, 380, 381, 382, 384, 385, 387, 388, 389,\n",
       "         390, 391, 393, 394, 395, 396, 397, 398, 399, 401, 402, 403, 404,\n",
       "         405, 406, 407, 408, 409, 410, 411, 412, 413, 414, 416, 417, 418,\n",
       "         420, 421, 422, 423, 424, 425, 426, 427, 428, 430, 431, 432, 433,\n",
       "         434, 435, 436, 438, 439, 440, 441, 442, 443, 444, 445, 447, 448,\n",
       "         449, 450, 451, 452, 453, 455, 456, 457, 460, 461, 462, 463, 464,\n",
       "         466, 467, 469, 470, 471, 472, 476, 479, 480, 481, 482, 483, 484,\n",
       "         485, 486, 488, 489, 490, 491, 492, 495, 496, 497, 498, 499, 501,\n",
       "         502, 505, 506, 507, 508, 511, 512, 513, 514, 516, 517, 518, 520,\n",
       "         522, 524, 526, 527, 528, 529, 530, 531, 533, 535, 536, 537, 538,\n",
       "         540, 541, 542, 543, 544, 545, 546, 547, 548, 549, 550, 551, 552,\n",
       "         553, 555, 556, 557, 558, 559, 560, 561, 562, 563, 564, 566, 567,\n",
       "         568, 569, 570, 571, 572, 574, 575, 576, 577, 578, 580, 583, 584,\n",
       "         585, 586, 587, 588, 589, 590, 591, 592, 593, 594, 595, 596, 597,\n",
       "         598, 600, 602, 603, 604, 605, 606, 607, 608, 609, 610, 612, 613,\n",
       "         614, 615, 616, 617, 618, 619, 620, 621, 622, 623, 624, 626, 627,\n",
       "         628, 629, 630, 631, 633, 634, 635, 636, 637, 638, 639, 641, 644,\n",
       "         645, 646, 647, 648, 649, 652, 654, 656, 657, 658, 660, 661, 663,\n",
       "         664, 665, 666, 667, 668, 669, 670, 671, 673, 674, 675, 677, 678,\n",
       "         679, 681, 682, 683, 684, 685, 686, 687, 689, 690, 691, 692, 694,\n",
       "         697, 699, 701, 702, 703, 705, 707, 708, 709, 710, 711, 712, 713,\n",
       "         714, 715, 716, 717, 719, 720, 721, 722, 723, 726, 727, 728, 729,\n",
       "         731, 732, 733, 734, 735, 736, 737, 739, 740, 741, 742, 744, 745,\n",
       "         746, 747, 751, 754, 755, 756, 757, 759, 760, 761, 762, 763, 764,\n",
       "         766, 767, 768, 769, 770, 771, 772, 773, 774, 778, 779, 780, 783,\n",
       "         784, 785, 786, 787, 788, 789, 791, 793, 794, 795, 798, 800, 801,\n",
       "         802, 804, 805, 806, 807, 808, 809, 810, 811, 812, 813, 815, 816,\n",
       "         817, 819, 820, 821, 822, 823, 824, 825, 826, 827, 828, 829, 830,\n",
       "         831, 832, 833, 834, 835, 836, 837, 838, 839, 840, 841, 842, 843,\n",
       "         844, 845, 846, 847, 848, 849, 851, 852, 854, 855, 857, 858, 860,\n",
       "         861, 863, 864, 865, 866, 867, 868, 870, 871, 872, 873, 874, 875,\n",
       "         876, 877, 878, 881, 882, 883, 884, 885, 887, 888, 889, 890, 892,\n",
       "         893, 894, 895, 896, 898, 899, 900, 901, 902, 904, 905, 906, 907,\n",
       "         908, 909, 910, 913, 914, 916, 917]),\n",
       "  array([  0,   3,  14,  15,  17,  27,  28,  37,  40,  42,  43,  47,  53,\n",
       "          58,  63,  65,  66,  74,  76,  84,  88,  91,  97,  98, 100, 105,\n",
       "         122, 127, 129, 130, 131, 132, 134, 136, 142, 143, 144, 151, 155,\n",
       "         159, 160, 162, 164, 174, 191, 197, 204, 211, 212, 219, 220, 221,\n",
       "         229, 232, 233, 241, 245, 251, 259, 268, 275, 277, 281, 282, 283,\n",
       "         286, 287, 290, 301, 319, 339, 362, 366, 374, 376, 378, 383, 386,\n",
       "         392, 400, 415, 419, 429, 437, 446, 454, 458, 459, 465, 468, 473,\n",
       "         474, 475, 477, 478, 487, 493, 494, 500, 503, 504, 509, 510, 515,\n",
       "         519, 521, 523, 525, 532, 534, 539, 554, 565, 573, 579, 581, 582,\n",
       "         599, 601, 611, 625, 632, 640, 642, 643, 650, 651, 653, 655, 659,\n",
       "         662, 672, 676, 680, 688, 693, 695, 696, 698, 700, 704, 706, 718,\n",
       "         724, 725, 730, 738, 743, 748, 749, 750, 752, 753, 758, 765, 775,\n",
       "         776, 777, 781, 782, 790, 792, 796, 797, 799, 803, 814, 818, 850,\n",
       "         853, 856, 859, 862, 869, 879, 880, 886, 891, 897, 903, 911, 912,\n",
       "         915]))]"
      ]
     },
     "execution_count": 83,
     "metadata": {},
     "output_type": "execute_result"
    }
   ],
   "source": [
    "splitted_data"
   ]
  },
  {
   "cell_type": "code",
   "execution_count": 84,
   "id": "36873b65",
   "metadata": {
    "ExecuteTime": {
     "end_time": "2023-08-21T12:45:13.750881Z",
     "start_time": "2023-08-21T12:45:13.736613Z"
    }
   },
   "outputs": [],
   "source": [
    "ran_for=RandomForestClassifier()\n",
    "sup=svm.SVC()\n",
    "d_tree=tree.DecisionTreeClassifier()"
   ]
  },
  {
   "cell_type": "code",
   "execution_count": 104,
   "id": "9eb12134",
   "metadata": {
    "ExecuteTime": {
     "end_time": "2023-08-21T12:55:09.472985Z",
     "start_time": "2023-08-21T12:55:09.457122Z"
    }
   },
   "outputs": [],
   "source": [
    "rmse={\n",
    "    'RMSE Random Forest ':[],\n",
    "    'RMSE SVM ':[],\n",
    "    'RMSE Tree ':[]\n",
    "}"
   ]
  },
  {
   "cell_type": "code",
   "execution_count": 105,
   "id": "0b222f04",
   "metadata": {
    "ExecuteTime": {
     "end_time": "2023-08-21T12:55:11.155233Z",
     "start_time": "2023-08-21T12:55:10.297829Z"
    }
   },
   "outputs": [],
   "source": [
    "for train_index,test_index in splitted_data:\n",
    "    feature_train,feature_test=x.iloc[train_index,:],x.iloc[test_index,:]\n",
    "    label_train,label_test=y.iloc[train_index],y.iloc[test_index]\n",
    "    ran_for.fit(feature_train,label_train)\n",
    "    sup.fit(feature_train,label_train)\n",
    "    d_tree.fit(feature_train,label_train)\n",
    "    pred_for=ran_for.predict(feature_test)\n",
    "    pred_svc=sup.predict(feature_test)\n",
    "    pred_tree=d_tree.predict(feature_test)\n",
    "    rmse['RMSE Random Forest '].append(sqrt(mse(label_test,pred_for)))\n",
    "    rmse['RMSE SVM '].append(sqrt(mse(label_test,pred_svc)))\n",
    "    rmse['RMSE Tree '].append(sqrt(mse(label_test,pred_tree)))"
   ]
  },
  {
   "cell_type": "code",
   "execution_count": 109,
   "id": "000940e8",
   "metadata": {
    "ExecuteTime": {
     "end_time": "2023-08-21T12:57:02.516328Z",
     "start_time": "2023-08-21T12:57:02.505753Z"
    }
   },
   "outputs": [],
   "source": [
    "RMSE=pd.DataFrame(rmse)"
   ]
  },
  {
   "cell_type": "code",
   "execution_count": 200,
   "id": "8f93be54",
   "metadata": {
    "ExecuteTime": {
     "end_time": "2023-08-21T13:37:04.821012Z",
     "start_time": "2023-08-21T13:37:04.800156Z"
    },
    "scrolled": true
   },
   "outputs": [
    {
     "data": {
      "text/plain": [
       "RMSE Random Forest     0.369237\n",
       "RMSE SVM               0.526900\n",
       "RMSE Tree              0.454568\n",
       "dtype: float64"
      ]
     },
     "execution_count": 200,
     "metadata": {},
     "output_type": "execute_result"
    }
   ],
   "source": [
    "RMSE.mean()"
   ]
  },
  {
   "cell_type": "code",
   "execution_count": 206,
   "id": "23a0d3c2",
   "metadata": {
    "ExecuteTime": {
     "end_time": "2023-08-21T13:39:26.235553Z",
     "start_time": "2023-08-21T13:39:26.070137Z"
    }
   },
   "outputs": [
    {
     "data": {
      "text/plain": [
       "<Axes: >"
      ]
     },
     "execution_count": 206,
     "metadata": {},
     "output_type": "execute_result"
    },
    {
     "data": {
      "image/png": "[encoded data removed]",
      "text/plain": [
       "<Figure size 640x480 with 1 Axes>"
      ]
     },
     "metadata": {},
     "output_type": "display_data"
    }
   ],
   "source": [
    "sns.set_theme(font_scale=1,style='ticks')\n",
    "sns.barplot(RMSE,saturation=1)"
   ]
  },
  {
   "cell_type": "code",
   "execution_count": 115,
   "id": "9120500b",
   "metadata": {
    "ExecuteTime": {
     "end_time": "2023-08-21T13:00:42.425395Z",
     "start_time": "2023-08-21T13:00:42.408775Z"
    },
    "scrolled": false
   },
   "outputs": [
    {
     "name": "stdout",
     "output_type": "stream",
     "text": [
      "              precision    recall  f1-score   support\n",
      "\n",
      "           0       0.88      0.94      0.91        89\n",
      "           1       0.94      0.87      0.91        94\n",
      "\n",
      "    accuracy                           0.91       183\n",
      "   macro avg       0.91      0.91      0.91       183\n",
      "weighted avg       0.91      0.91      0.91       183\n",
      "\n"
     ]
    }
   ],
   "source": [
    "print(classification_report(label_test,pred_for))"
   ]
  },
  {
   "cell_type": "code",
   "execution_count": 165,
   "id": "fffcfaef",
   "metadata": {
    "ExecuteTime": {
     "end_time": "2023-08-21T13:20:39.742523Z",
     "start_time": "2023-08-21T13:20:39.726860Z"
    },
    "scrolled": true
   },
   "outputs": [
    {
     "name": "stdout",
     "output_type": "stream",
     "text": [
      "              precision    recall  f1-score   support\n",
      "\n",
      "           0       0.77      0.88      0.82        89\n",
      "           1       0.87      0.76      0.81        94\n",
      "\n",
      "    accuracy                           0.81       183\n",
      "   macro avg       0.82      0.82      0.81       183\n",
      "weighted avg       0.82      0.81      0.81       183\n",
      "\n"
     ]
    }
   ],
   "source": [
    "print(classification_report(label_test,pred_tree))"
   ]
  },
  {
   "cell_type": "code",
   "execution_count": 166,
   "id": "cef69510",
   "metadata": {
    "ExecuteTime": {
     "end_time": "2023-08-21T13:21:09.408037Z",
     "start_time": "2023-08-21T13:21:09.389583Z"
    }
   },
   "outputs": [
    {
     "name": "stdout",
     "output_type": "stream",
     "text": [
      "              precision    recall  f1-score   support\n",
      "\n",
      "           0       0.70      0.67      0.69        89\n",
      "           1       0.70      0.72      0.71        94\n",
      "\n",
      "    accuracy                           0.70       183\n",
      "   macro avg       0.70      0.70      0.70       183\n",
      "weighted avg       0.70      0.70      0.70       183\n",
      "\n"
     ]
    }
   ],
   "source": [
    "print(classification_report(label_test,pred_svc))"
   ]
  },
  {
   "cell_type": "code",
   "execution_count": 176,
   "id": "bd6d0e04",
   "metadata": {
    "ExecuteTime": {
     "end_time": "2023-08-21T13:22:27.860131Z",
     "start_time": "2023-08-21T13:22:27.844930Z"
    }
   },
   "outputs": [
    {
     "data": {
      "text/plain": [
       "(735,)"
      ]
     },
     "execution_count": 176,
     "metadata": {},
     "output_type": "execute_result"
    }
   ],
   "source": [
    "label_train.shape"
   ]
  },
  {
   "cell_type": "code",
   "execution_count": 179,
   "id": "64bcfb0f",
   "metadata": {
    "ExecuteTime": {
     "end_time": "2023-08-21T13:24:59.530739Z",
     "start_time": "2023-08-21T13:24:59.511491Z"
    }
   },
   "outputs": [
    {
     "data": {
      "text/plain": [
       "(183, 10)"
      ]
     },
     "execution_count": 179,
     "metadata": {},
     "output_type": "execute_result"
    }
   ],
   "source": [
    "feature_train.shape"
   ]
  },
  {
   "cell_type": "code",
   "execution_count": null,
   "id": "dcf245d9",
   "metadata": {},
   "outputs": [],
   "source": []
  }
 ],
 "metadata": {
  "hide_input": false,
  "kernelspec": {
   "display_name": "Python 3 (ipykernel)",
   "language": "python",
   "name": "python3"
  },
  "language_info": {
   "codemirror_mode": {
    "name": "ipython",
    "version": 3
   },
   "file_extension": ".py",
   "mimetype": "text/x-python",
   "name": "python",
   "nbconvert_exporter": "python",
   "pygments_lexer": "ipython3",
   "version": "3.10.9"
  }
 },
 "nbformat": 4,
 "nbformat_minor": 5
}
